{
 "cells": [
  {
   "cell_type": "markdown",
   "metadata": {},
   "source": [
    "# Robustness of SimpleNet vs MirrorNet\n",
    "\n",
    "Based on this it seems like very simple networks are quite robust to gradient based adversaries"
   ]
  },
  {
   "cell_type": "code",
   "execution_count": 1,
   "metadata": {},
   "outputs": [],
   "source": [
    "import numpy as np\n",
    "import matplotlib.pyplot as plt\n",
    "\n",
    "import torch\n",
    "import torch.nn as nn\n",
    "import torch.optim as optim\n",
    "from torch.autograd import Variable\n",
    "from torch.utils.data import DataLoader\n",
    "from torch.utils.data import sampler\n",
    "\n",
    "import torchvision.datasets as dset\n",
    "import torchvision.transforms as T\n",
    "\n",
    "from simplenet import *\n",
    "from mirrornet import *\n",
    "\n",
    "from utils import *\n",
    "\n",
    "gpu_dtype = torch.cuda.FloatTensor\n",
    "\n",
    "loader_train, loader_val, loader_test = get_cifar_loaders()"
   ]
  },
  {
   "cell_type": "code",
   "execution_count": 25,
   "metadata": {},
   "outputs": [
    {
     "name": "stdout",
     "output_type": "stream",
     "text": [
      "413386\n"
     ]
    }
   ],
   "source": [
    "from importlib import reload\n",
    "\n",
    "import simplenet\n",
    "reload(simplenet)\n",
    "from simplenet import *\n",
    "\n",
    "import utils\n",
    "reload(utils)\n",
    "from utils import *\n",
    "\n",
    "simplenet = SimpleNet().cuda()\n",
    "# mirrornet = MirrorNet().cuda()\n",
    "print(get_param_count(simplenet))\n",
    "# print(get_param_count(mirrornet))"
   ]
  },
  {
   "cell_type": "code",
   "execution_count": 26,
   "metadata": {
    "scrolled": true
   },
   "outputs": [],
   "source": [
    "simpletrainer = Trainer(simplenet, loader_train, loader_val)\n",
    "\n",
    "# train(simplenet, loader_train, loader_val, schedule_epochs=[10, 5, 2])\n",
    "# train(mirrornet, loader_train, loader_val, schedule_epochs=[10, 5, 2])"
   ]
  },
  {
   "cell_type": "code",
   "execution_count": 27,
   "metadata": {
    "scrolled": true
   },
   "outputs": [
    {
     "name": "stdout",
     "output_type": "stream",
     "text": [
      "Training for 1 epochs with learning rate 0.100000\n",
      "Starting epoch 1 / 1\n",
      "loss = 1.7961\n",
      "Got 1766 / 5000 correct (35.32)\n",
      "Training for 1 epochs with learning rate 0.100000\n",
      "Starting epoch 1 / 1\n",
      "loss = 1.4926\n",
      "Got 2309 / 5000 correct (46.18)\n",
      "Training for 1 epochs with learning rate 0.100000\n",
      "Starting epoch 1 / 1\n",
      "loss = 1.3387\n",
      "Got 2554 / 5000 correct (51.08)\n"
     ]
    }
   ],
   "source": [
    "simpletrainer.train_schedule([1, 1, 1])"
   ]
  },
  {
   "cell_type": "code",
   "execution_count": 128,
   "metadata": {},
   "outputs": [
    {
     "data": {
      "image/png": "[encoded data removed]",
      "text/plain": [
       "<matplotlib.figure.Figure at 0x7fbfbf1c9080>"
      ]
     },
     "metadata": {},
     "output_type": "display_data"
    },
    {
     "name": "stdout",
     "output_type": "stream",
     "text": [
      "dog\n"
     ]
    }
   ],
   "source": [
    "images, labels = iter(loader_test).next()\n",
    "i = 16\n",
    "image, label = images[i, np.newaxis], labels[i]\n",
    "img_var = Variable(image.cuda(), requires_grad=True)\n",
    "imshow(image, label)\n",
    "print(CIFAR_CLASSES[simplenet(img_var).max(0)[1].data[0]])"
   ]
  },
  {
   "cell_type": "code",
   "execution_count": 180,
   "metadata": {},
   "outputs": [
    {
     "name": "stdout",
     "output_type": "stream",
     "text": [
      "dog\n",
      "dog\n",
      "dog\n",
      "dog\n",
      "dog\n",
      "dog\n",
      "horse\n",
      "horse\n",
      "horse\n",
      "horse\n"
     ]
    },
    {
     "data": {
      "image/png": "[encoded data removed]",
      "text/plain": [
       "<matplotlib.figure.Figure at 0x7fbfbf1d4160>"
      ]
     },
     "metadata": {},
     "output_type": "display_data"
    },
    {
     "data": {
      "image/png": "[encoded data removed]",
      "text/plain": [
       "<matplotlib.figure.Figure at 0x7fbff1d5e668>"
      ]
     },
     "metadata": {},
     "output_type": "display_data"
    }
   ],
   "source": [
    "def adversarial_attack(model, img_var):\n",
    "    for param in model.parameters():\n",
    "        param.requires_grad = False\n",
    "    \n",
    "    target = 4\n",
    "    \n",
    "    alpha = .005\n",
    "    adv_img_var = Variable(img_var.data.clone(), requires_grad=True)\n",
    "    \n",
    "    difference = torch.zeros_like(adv_img_var.data)\n",
    "    \n",
    "    num_epochs = 1000\n",
    "    for epoch in range(num_epochs):\n",
    "        scores = model(adv_img_var)\n",
    "\n",
    "        objective = scores.squeeze()[target]\n",
    "        objective.backward()\n",
    "        g = adv_img_var.grad.data.clone()\n",
    "        adv_img_var.grad.zero_()\n",
    "        g = g / g.norm()\n",
    "\n",
    "        diff_epoch = alpha * g\n",
    "        adv_img_var.data += diff_epoch.cuda()\n",
    "        difference += diff_epoch\n",
    "        adv_img_var.data = torch.clamp(adv_img_var.data, min=-1, max=1)\n",
    "        difference = torch.clamp(difference, min=-1, max=1)\n",
    "        \n",
    "#         print(scores.data[target])\\\n",
    "        if epoch % 100 == 0:\n",
    "            print(CIFAR_CLASSES[scores.max(0)[1].data[0]])\n",
    "#         print(scores.data.cpu().numpy())\n",
    "    \n",
    "    for param in model.parameters():\n",
    "        param.requires_grad = True\n",
    "    \n",
    "    return adv_img_var, difference\n",
    "\n",
    "adv_img_var, difference = adversarial_attack(simplenet, img_var)\n",
    "\n",
    "imshow(adv_img_var.data.cpu().numpy(), label)\n",
    "imshow(difference.cpu().numpy(), 0)\n",
    "# imshow(img_var.data.cpu().numpy(), label)"
   ]
  },
  {
   "cell_type": "code",
   "execution_count": null,
   "metadata": {},
   "outputs": [],
   "source": []
  }
 ],
 "metadata": {
  "kernelspec": {
   "display_name": "Python 3",
   "language": "python",
   "name": "python3"
  },
  "language_info": {
   "codemirror_mode": {
    "name": "ipython",
    "version": 3
   },
   "file_extension": ".py",
   "mimetype": "text/x-python",
   "name": "python",
   "nbconvert_exporter": "python",
   "pygments_lexer": "ipython3",
   "version": "3.5.2"
  }
 },
 "nbformat": 4,
 "nbformat_minor": 2
}
